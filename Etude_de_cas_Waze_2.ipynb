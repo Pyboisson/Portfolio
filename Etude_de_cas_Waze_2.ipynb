{
  "nbformat": 4,
  "nbformat_minor": 0,
  "metadata": {
    "colab": {
      "provenance": []
    },
    "kernelspec": {
      "name": "python3",
      "display_name": "Python 3"
    },
    "language_info": {
      "name": "python"
    }
  },
  "cells": [
    {
      "cell_type": "markdown",
      "source": [
        "\n",
        "# # **Projet Waze**\n",
        "# **Cours 4 - La puissance des statistiques**\n",
        "\n",
        "# Votre équipe approche de la moitié de son projet sur l'attrition des utilisateurs. Jusqu'à présent, vous avez complété une proposition de projet et utilisé Python pour explorer et analyser les données des utilisateurs de Waze. Vous avez également utilisé Python pour créer des visualisations de données. L'étape suivante consiste à utiliser des méthodes statistiques pour analyser et interpréter vos données.\n",
        "#\n",
        "# Vous recevez un nouvel e-mail de Sylvester Esperanza, votre chef de projet. Sylvester informe votre équipe d'une nouvelle demande de la direction : analyser la relation entre la moyenne du nombre de trajets et le type d'appareil. Vous découvrez également des e-mails de suivi de trois autres membres de l'équipe : May Santner, Chidi Ga et Harriet Hadzic. Ces e-mails abordent les détails de l'analyse. Ils souhaitent une analyse statistique des données de trajets en fonction du type d'appareil. En particulier, la direction veut savoir s'il existe une différence statistiquement significative dans la moyenne du nombre de trajets entre les utilisateurs d’iPhone® et les utilisateurs d’Android™. Un dernier e-mail de Chidi inclut votre mission spécifique : réaliser un test d'hypothèse à deux échantillons (test t) pour analyser la différence dans la moyenne du nombre de trajets entre les utilisateurs d’iPhone et d’Android.\n",
        "#\n",
        "# Un notebook a été structuré et préparé pour vous aider dans ce projet. Veuillez compléter les questions suivantes et préparer un résumé exécutif.\n",
        "\n",
        "# # **Projet de fin de cours 4 : Exploration des données et test d'hypothèse**\n",
        "#\n",
        "# Dans cette activité, vous allez explorer les données fournies et réaliser un test d'hypothèse.\n",
        "# <br/>\n",
        "#\n",
        "# **L'objectif** de ce projet est de démontrer la connaissance de la réalisation d'un test d'hypothèse à deux échantillons.\n",
        "#\n",
        "# **Le but** est d'appliquer des statistiques descriptives et des tests d'hypothèse en Python.\n",
        "# <br/>\n",
        "#\n",
        "# *Cette activité comporte trois parties :*\n",
        "#\n",
        "# **Partie 1 :** Importations et chargement des données\n",
        "# * Quels packages de données seront nécessaires pour réaliser le test d'hypothèse ?\n",
        "#\n",
        "# **Partie 2 :** Réalisation du test d'hypothèse\n",
        "# * Comment le calcul des statistiques descriptives vous a-t-il aidé à analyser vos données ?\n",
        "#\n",
        "# * Comment avez-vous formulé votre hypothèse nulle et votre hypothèse alternative ?\n",
        "#\n",
        "# **Partie 3 :** Communication des résultats aux parties prenantes\n",
        "#\n",
        "# * Quelle(s) information(s) clé(s) sur l'entreprise ont émergé de votre test d'hypothèse ?\n",
        "#\n",
        "# * Quelles recommandations commerciales proposez-vous en fonction de vos résultats ?\n",
        "#\n",
        "# <br/>\n",
        "#\n",
        "#\n",
        "# Suivez les instructions et répondez aux questions ci-dessous pour compléter l'activité. Ensuite, vous compléterez un résumé exécutif en utilisant les questions listées dans le document de stratégie PACE.\n",
        "#\n",
        "# Assurez-vous de compléter cette activité avant de passer à la suite. Le prochain élément du cours vous fournira un exemple complété à comparer avec votre propre travail.\n",
        "#\n",
        "#\n",
        "# Dans [1] :\n",
        "# Importer les packages et libraries #\n"
      ],
      "metadata": {
        "id": "xDx2MSpQd0_W"
      }
    },
    {
      "cell_type": "code",
      "source": [
        "import pandas as pd\n",
        "from scipy import stats"
      ],
      "metadata": {
        "id": "aWN3fzB8d8FZ"
      },
      "execution_count": null,
      "outputs": []
    },
    {
      "cell_type": "markdown",
      "source": [
        "# Importer le jeu de données.\n",
        "#\n",
        "\n",
        "# Dans [2] :\n",
        "\n",
        "\n",
        "# Charger le jeu de données dans un dataframe\n"
      ],
      "metadata": {
        "id": "eulMP952d8u1"
      }
    },
    {
      "cell_type": "code",
      "source": [
        "df = pd.read_csv('waze_dataset.csv')"
      ],
      "metadata": {
        "id": "P2oJkAaUeUpn"
      },
      "execution_count": null,
      "outputs": []
    },
    {
      "cell_type": "markdown",
      "source": [
        "# Considérez les questions dans votre document de stratégie PACE et celles ci-dessous pour formuler votre réponse :\n",
        "# 1. Les professionnels des données utilisent les statistiques descriptives pour l'analyse exploratoire des données (EDA). Comment le calcul des statistiques descriptives peut-il vous aider à en apprendre davantage sur vos données à ce stade de votre analyse ?\n",
        "#\n",
        "\n",
        "# **Réponse :**\n",
        "#\n",
        "# En général, les statistiques descriptives sont utiles car elles permettent d'explorer et de comprendre rapidement de grandes quantités de données. Dans ce cas, le calcul des statistiques descriptives aide à comparer rapidement le nombre moyen de trajets par type d'appareil.\n",
        "#\n",
        "\n",
        "# ### **Tâche 2. Exploration des données**\n",
        "#\n",
        "# Utilisez les statistiques descriptives pour réaliser une analyse exploratoire des données (EDA).\n",
        "#\n",
        "\n",
        "\n",
        "# **Remarque :** Dans le jeu de données, `device` est une variable catégorielle avec les étiquettes `iPhone` et `Android`.\n",
        "#\n",
        "# Afin de réaliser cette analyse, vous devez transformer chaque étiquette en un entier. Le code suivant attribue une valeur `1` pour un utilisateur d’`iPhone` et `2` pour `Android`. Cette valeur est ensuite attribuée à la variable `device_type`.\n",
        "#\n",
        "# **Remarque :** Créer une nouvelle variable est idéal pour ne pas écraser les données originales.\n",
        "#\n",
        "#\n",
        "\n",
        "# 1. Créez un dictionnaire appelé `map_dictionary` contenant les étiquettes de classe (`'Android'` et `'iPhone'`) comme clés et les valeurs à leur attribuer (`2` et `1`) comme valeurs.\n",
        "#\n",
        "# 2. Créez une nouvelle colonne appelée `device_type` qui est une copie de la colonne `device`.\n",
        "#\n",
        "# 3. Utilisez la méthode [`map()`](https://pandas.pydata.org/docs/reference/api/pandas.Series.map.html#pandas-series-map) sur la série `device_type`. Passez `map_dictionary` en argument. Réaffectez le résultat à la série `device_type`.\n",
        "# </br></br>\n",
        "# Lorsque vous passez un dictionnaire à la méthode `Series.map()`, elle remplace les données dans la série lorsque celles-ci correspondent aux clés du dictionnaire. Les valeurs imputées sont celles du dictionnaire.\n",
        "#\n",
        "# ```\n",
        "# Exemple :\n",
        "# df['colonne']\n",
        "# ```\n",
        "#\n",
        "# |colonne |\n",
        "# |  :-:       |\n",
        "# | A     |\n",
        "# | B     |\n",
        "# | A     |\n",
        "# | B     |\n",
        "#\n",
        "# ```\n",
        "# map_dictionary = {'A': 2, 'B': 1}\n",
        "# df['colonne'] = df['colonne'].map(map_dictionary)\n",
        "# df['colonne']\n",
        "# ```\n",
        "#\n",
        "# |colonne |\n",
        "# |  :-: |\n",
        "# | 2    |\n",
        "# | 1    |\n",
        "# | 2    |\n",
        "# | 1    |\n",
        "#\n",
        "\n",
        "# Dans [3] :\n",
        "# 1. Créez `map_dictionary`\n",
        "\n"
      ],
      "metadata": {
        "id": "oluiSbH-eVwk"
      }
    },
    {
      "cell_type": "code",
      "source": [
        "map_dictionary = {'Android': 2, 'iPhone': 1}"
      ],
      "metadata": {
        "id": "qhFKbbaHfIcs"
      },
      "execution_count": null,
      "outputs": []
    },
    {
      "cell_type": "markdown",
      "source": [
        "# 2. Créez une nouvelle colonne `device_type`\n"
      ],
      "metadata": {
        "id": "EfHX7bRGfJ2m"
      }
    },
    {
      "cell_type": "code",
      "source": [
        "df['device_type'] = df['device']"
      ],
      "metadata": {
        "id": "l54QWbL6fN1R"
      },
      "execution_count": null,
      "outputs": []
    },
    {
      "cell_type": "markdown",
      "source": [
        "# 3. Associez la nouvelle colonne au dictionnaire\n"
      ],
      "metadata": {
        "id": "diE9VIB7fPQl"
      }
    },
    {
      "cell_type": "code",
      "source": [
        "df['device_type'] = df['device_type'].map(map_dictionary)\n",
        "\n",
        "df['device_type'].head()"
      ],
      "metadata": {
        "id": "Lx_hLIhifTse"
      },
      "execution_count": null,
      "outputs": []
    },
    {
      "cell_type": "markdown",
      "source": [
        "# Vous êtes intéressé par la relation entre le type d'appareil et le nombre de trajets. Une approche consiste à examiner le nombre moyen de trajets pour chaque type d'appareil. Calculez ces moyennes.\n",
        "\n",
        "# Dans [4] :\n"
      ],
      "metadata": {
        "id": "7WRdeT7PfdZK"
      }
    },
    {
      "cell_type": "code",
      "source": [
        "df.groupby('device_type')['drives'].mean()"
      ],
      "metadata": {
        "id": "aN1ufpyWfc0F"
      },
      "execution_count": null,
      "outputs": []
    },
    {
      "cell_type": "markdown",
      "source": [
        "# Sur la base des moyennes affichées, il semble que les conducteurs utilisant un appareil iPhone pour interagir avec l'application aient un nombre moyen de trajets plus élevé. Cependant, cette différence pourrait résulter d'un échantillonnage aléatoire plutôt que d'une véritable différence dans le nombre de trajets. Pour évaluer si la différence est statistiquement significative, vous pouvez effectuer un test d'hypothèse.\n",
        "\n",
        "#\n",
        "# ### **Tâche 3. Test d'hypothèse**\n",
        "\n",
        "#\n",
        "#\n",
        "# Votre objectif est de réaliser un test t pour deux échantillons. Rappelez-vous les étapes pour effectuer un test d'hypothèse :\n",
        "#\n",
        "#\n",
        "# 1.   Énoncer l'hypothèse nulle et l'hypothèse alternative\n",
        "# 2.   Choisir un niveau de signification\n",
        "# 3.   Trouver la valeur p\n",
        "# 4.   Rejeter ou ne pas rejeter l'hypothèse nulle\n",
        "#\n",
        "# **Remarque :** Il s'agit d'un test t pour deux échantillons indépendants. C'est le test approprié puisque les deux groupes sont indépendants (utilisateurs Android vs. utilisateurs iPhone).\n",
        "\n",
        "# Rappelez-vous la différence entre l'hypothèse nulle ($H_0$) et l'hypothèse alternative ($H_A$).\n",
        "#\n",
        "# **Question :** Quelles sont vos hypothèses pour ce projet de données ?\n",
        "\n",
        "#\n",
        "# **Hypothèses :**\n",
        "#\n",
        "# $H_0$ : Il n'y a pas de différence dans le nombre moyen de trajets entre les conducteurs utilisant des appareils iPhone et ceux utilisant des appareils Android.\n",
        "#\n",
        "# $H_A$ : Il y a une différence dans le nombre moyen de trajets entre les conducteurs utilisant des appareils iPhone et ceux utilisant des appareils Android.\n",
        "\n",
        "# Ensuite, choisissez 5 % comme niveau de signification et procédez à un test t pour deux échantillons.\n",
        "#\n",
        "# Vous pouvez utiliser la fonction `stats.ttest_ind()` pour effectuer le test.\n",
        "#\n",
        "#\n",
        "# **Remarque technique** : Par défaut, l'argument `equal_var` dans `stats.ttest_ind()` est défini sur `True`, ce qui suppose que les variances des populations sont égales. Cette hypothèse d'égalité des variances peut ne pas être valable en pratique (c'est-à-dire qu'il n'y a aucune raison forte de supposer que les deux groupes ont la même variance) ; vous pouvez assouplir cette hypothèse en définissant `equal_var` sur `False`, et `stats.ttest_ind()` effectuera le test t pour variances inégales (connu sous le nom de test t de Welch). Consultez la [documentation du test t de scipy](https://docs.scipy.org/doc/scipy/reference/generated/scipy.stats.ttest_ind.html) pour plus d'informations.\n",
        "#\n",
        "#\n",
        "# 1. Isolez la colonne `drives` pour les utilisateurs d'iPhone.\n",
        "# 2. Isolez la colonne `drives` pour les utilisateurs d'Android.\n",
        "# 3. Effectuez le test t\n",
        "\n",
        "# Dans [5] :\n",
        "\n",
        "\n",
        "# 1. Isolez la colonne `drives` pour les utilisateurs d'iPhone.\n"
      ],
      "metadata": {
        "id": "GdjwZb4Aff02"
      }
    },
    {
      "cell_type": "code",
      "source": [
        "iPhone = df[df['device_type'] == 1]['drives']"
      ],
      "metadata": {
        "id": "5XCkzuBGf6Bl"
      },
      "execution_count": null,
      "outputs": []
    },
    {
      "cell_type": "markdown",
      "source": [
        "# 2. Isolez la colonne `drives` pour les utilisateurs d'Android.\n",
        "\n",
        "\n",
        "\n"
      ],
      "metadata": {
        "id": "JurRk0f4f6Tf"
      }
    },
    {
      "cell_type": "code",
      "source": [
        "Android = df[df['device_type'] == 2]['drives']"
      ],
      "metadata": {
        "id": "5BztJyQof_DE"
      },
      "execution_count": null,
      "outputs": []
    },
    {
      "cell_type": "markdown",
      "source": [
        "# 3. Effectuez le test t.\n"
      ],
      "metadata": {
        "id": "V7sBhcAxf_XF"
      }
    },
    {
      "cell_type": "code",
      "source": [
        "stats.ttest_ind(a=iPhone, b=Android, equal_var=False)"
      ],
      "metadata": {
        "id": "hlo_5pGbgAtD"
      },
      "execution_count": null,
      "outputs": []
    },
    {
      "cell_type": "markdown",
      "source": [
        "# **Question:** En fonction de la p-valeur obtenue ci-dessus, rejetez-vous ou ne rejetez-vous pas l'hypothèse nulle ?\n",
        "#\n",
        "# > *Puisque la p-valeur est plus grande que le niveau de signification choisi (5%), vous ne rejetez pas l'hypothèse nulle. Vous concluez qu'il n'y a **pas** de différence statistiquement significative dans le nombre moyen de trajets entre les conducteurs qui utilisent un iPhone et ceux qui utilisent un Android.*\n",
        "#\n",
        "# <img src=\"images/Execute.png\" width=\"100\" height=\"100\" align=left>\n",
        "#\n",
        "# ## **PACE : Exécution**\n",
        "#\n",
        "# Réfléchissez aux questions de votre document de stratégie PACE et à celles ci-dessous pour vous concentrer sur l'étape Exécution.\n",
        "#\n",
        "# ### **Tâche 4 : Communiquer les résultats aux parties prenantes**\n",
        "#\n",
        "# Maintenant que vous avez complété votre test d'hypothèse, l'étape suivante consiste à partager vos résultats avec l'équipe dirigeante de Waze. Réfléchissez à la question suivante lors de la préparation de votre résumé exécutif :\n",
        "#\n",
        "# * Quelles sont les informations commerciales que vous pouvez tirer du résultat de votre test d'hypothèse ?\n",
        "#\n",
        "# > *L'information commerciale clé est que les conducteurs qui utilisent des appareils iPhone ont en moyenne un nombre de trajets similaire à ceux qui utilisent Android.*\n",
        "#\n",
        "# > *Une étape potentielle suivante serait d'explorer quels autres facteurs influencent la variation du nombre de trajets et de réaliser d'autres tests d'hypothèses pour en savoir plus sur le comportement des utilisateurs. De plus, des changements temporaires dans le marketing ou l'interface utilisateur de l'application Waze pourraient fournir davantage de données pour enquêter sur le taux de désabonnement.*\n",
        "\n"
      ],
      "metadata": {
        "id": "yfO-LrKAgGhG"
      }
    }
  ]
}